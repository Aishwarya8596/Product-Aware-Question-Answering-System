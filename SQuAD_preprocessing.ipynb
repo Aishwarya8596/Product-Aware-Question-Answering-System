{
  "nbformat": 4,
  "nbformat_minor": 0,
  "metadata": {
    "colab": {
      "name": "SQuAD_preprocessing_Aishwarya.ipynb",
      "provenance": []
    },
    "kernelspec": {
      "name": "python3",
      "display_name": "Python 3"
    },
    "language_info": {
      "name": "python"
    }
  },
  "cells": [
    {
      "cell_type": "code",
      "metadata": {
        "colab": {
          "base_uri": "https://localhost:8080/"
        },
        "id": "0dv9AydUAhNE",
        "outputId": "1f88cfcf-74ad-43cc-c192-8a8658001641"
      },
      "source": [
        "from google.colab import drive\n",
        "drive.mount(\"/content/gdrive\")\n"
      ],
      "execution_count": null,
      "outputs": [
        {
          "output_type": "stream",
          "text": [
            "Drive already mounted at /content/gdrive; to attempt to forcibly remount, call drive.mount(\"/content/gdrive\", force_remount=True).\n"
          ],
          "name": "stdout"
        }
      ]
    },
    {
      "cell_type": "code",
      "metadata": {
        "id": "04rG-b8yGEdH"
      },
      "source": [
        "import pandas as pd\n"
      ],
      "execution_count": null,
      "outputs": []
    },
    {
      "cell_type": "code",
      "metadata": {
        "colab": {
          "base_uri": "https://localhost:8080/",
          "height": 204
        },
        "id": "SVeh1ESFGcta",
        "outputId": "39c314df-2274-4ea1-ba11-08f61b8a326f"
      },
      "source": [
        "train_set = \"/content/gdrive/MyDrive/CMPE 295A/SQuAD dataset/train-v2.0.json\"\n",
        "train_data = pd.read_json(train_set)\n",
        "train_data.head()"
      ],
      "execution_count": null,
      "outputs": [
        {
          "output_type": "execute_result",
          "data": {
            "text/html": [
              "<div>\n",
              "<style scoped>\n",
              "    .dataframe tbody tr th:only-of-type {\n",
              "        vertical-align: middle;\n",
              "    }\n",
              "\n",
              "    .dataframe tbody tr th {\n",
              "        vertical-align: top;\n",
              "    }\n",
              "\n",
              "    .dataframe thead th {\n",
              "        text-align: right;\n",
              "    }\n",
              "</style>\n",
              "<table border=\"1\" class=\"dataframe\">\n",
              "  <thead>\n",
              "    <tr style=\"text-align: right;\">\n",
              "      <th></th>\n",
              "      <th>version</th>\n",
              "      <th>data</th>\n",
              "    </tr>\n",
              "  </thead>\n",
              "  <tbody>\n",
              "    <tr>\n",
              "      <th>0</th>\n",
              "      <td>v2.0</td>\n",
              "      <td>{'title': 'Beyoncé', 'paragraphs': [{'qas': [{...</td>\n",
              "    </tr>\n",
              "    <tr>\n",
              "      <th>1</th>\n",
              "      <td>v2.0</td>\n",
              "      <td>{'title': 'Frédéric_Chopin', 'paragraphs': [{'...</td>\n",
              "    </tr>\n",
              "    <tr>\n",
              "      <th>2</th>\n",
              "      <td>v2.0</td>\n",
              "      <td>{'title': 'Sino-Tibetan_relations_during_the_M...</td>\n",
              "    </tr>\n",
              "    <tr>\n",
              "      <th>3</th>\n",
              "      <td>v2.0</td>\n",
              "      <td>{'title': 'IPod', 'paragraphs': [{'qas': [{'qu...</td>\n",
              "    </tr>\n",
              "    <tr>\n",
              "      <th>4</th>\n",
              "      <td>v2.0</td>\n",
              "      <td>{'title': 'The_Legend_of_Zelda:_Twilight_Princ...</td>\n",
              "    </tr>\n",
              "  </tbody>\n",
              "</table>\n",
              "</div>"
            ],
            "text/plain": [
              "  version                                               data\n",
              "0    v2.0  {'title': 'Beyoncé', 'paragraphs': [{'qas': [{...\n",
              "1    v2.0  {'title': 'Frédéric_Chopin', 'paragraphs': [{'...\n",
              "2    v2.0  {'title': 'Sino-Tibetan_relations_during_the_M...\n",
              "3    v2.0  {'title': 'IPod', 'paragraphs': [{'qas': [{'qu...\n",
              "4    v2.0  {'title': 'The_Legend_of_Zelda:_Twilight_Princ..."
            ]
          },
          "metadata": {
            "tags": []
          },
          "execution_count": 3
        }
      ]
    },
    {
      "cell_type": "code",
      "metadata": {
        "colab": {
          "base_uri": "https://localhost:8080/",
          "height": 204
        },
        "id": "OOpImPwMHpws",
        "outputId": "7d4ecb16-f404-42a5-f972-eecf94079251"
      },
      "source": [
        "test_set = \"/content/gdrive/MyDrive/CMPE 295A/SQuAD dataset/dev-v2.0.json\"\n",
        "test_data = pd.read_json(test_set)\n",
        "test_data.head()"
      ],
      "execution_count": null,
      "outputs": [
        {
          "output_type": "execute_result",
          "data": {
            "text/html": [
              "<div>\n",
              "<style scoped>\n",
              "    .dataframe tbody tr th:only-of-type {\n",
              "        vertical-align: middle;\n",
              "    }\n",
              "\n",
              "    .dataframe tbody tr th {\n",
              "        vertical-align: top;\n",
              "    }\n",
              "\n",
              "    .dataframe thead th {\n",
              "        text-align: right;\n",
              "    }\n",
              "</style>\n",
              "<table border=\"1\" class=\"dataframe\">\n",
              "  <thead>\n",
              "    <tr style=\"text-align: right;\">\n",
              "      <th></th>\n",
              "      <th>version</th>\n",
              "      <th>data</th>\n",
              "    </tr>\n",
              "  </thead>\n",
              "  <tbody>\n",
              "    <tr>\n",
              "      <th>0</th>\n",
              "      <td>v2.0</td>\n",
              "      <td>{'title': 'Normans', 'paragraphs': [{'qas': [{...</td>\n",
              "    </tr>\n",
              "    <tr>\n",
              "      <th>1</th>\n",
              "      <td>v2.0</td>\n",
              "      <td>{'title': 'Computational_complexity_theory', '...</td>\n",
              "    </tr>\n",
              "    <tr>\n",
              "      <th>2</th>\n",
              "      <td>v2.0</td>\n",
              "      <td>{'title': 'Southern_California', 'paragraphs':...</td>\n",
              "    </tr>\n",
              "    <tr>\n",
              "      <th>3</th>\n",
              "      <td>v2.0</td>\n",
              "      <td>{'title': 'Sky_(United_Kingdom)', 'paragraphs'...</td>\n",
              "    </tr>\n",
              "    <tr>\n",
              "      <th>4</th>\n",
              "      <td>v2.0</td>\n",
              "      <td>{'title': 'Victoria_(Australia)', 'paragraphs'...</td>\n",
              "    </tr>\n",
              "  </tbody>\n",
              "</table>\n",
              "</div>"
            ],
            "text/plain": [
              "  version                                               data\n",
              "0    v2.0  {'title': 'Normans', 'paragraphs': [{'qas': [{...\n",
              "1    v2.0  {'title': 'Computational_complexity_theory', '...\n",
              "2    v2.0  {'title': 'Southern_California', 'paragraphs':...\n",
              "3    v2.0  {'title': 'Sky_(United_Kingdom)', 'paragraphs'...\n",
              "4    v2.0  {'title': 'Victoria_(Australia)', 'paragraphs'..."
            ]
          },
          "metadata": {
            "tags": []
          },
          "execution_count": 4
        }
      ]
    },
    {
      "cell_type": "code",
      "metadata": {
        "colab": {
          "base_uri": "https://localhost:8080/"
        },
        "id": "I00EANl8WXrn",
        "outputId": "9ba1e006-0459-4f43-9837-a314c01778ff"
      },
      "source": [
        "train_data.info()"
      ],
      "execution_count": null,
      "outputs": [
        {
          "output_type": "stream",
          "text": [
            "<class 'pandas.core.frame.DataFrame'>\n",
            "RangeIndex: 442 entries, 0 to 441\n",
            "Data columns (total 2 columns):\n",
            " #   Column   Non-Null Count  Dtype \n",
            "---  ------   --------------  ----- \n",
            " 0   version  442 non-null    object\n",
            " 1   data     442 non-null    object\n",
            "dtypes: object(2)\n",
            "memory usage: 7.0+ KB\n"
          ],
          "name": "stdout"
        }
      ]
    },
    {
      "cell_type": "code",
      "metadata": {
        "colab": {
          "base_uri": "https://localhost:8080/"
        },
        "id": "EKEiZHsKWf_0",
        "outputId": "fa379f90-f4d1-4015-87c7-6a6385c57f5a"
      },
      "source": [
        "test_data.info()"
      ],
      "execution_count": null,
      "outputs": [
        {
          "output_type": "stream",
          "text": [
            "<class 'pandas.core.frame.DataFrame'>\n",
            "RangeIndex: 35 entries, 0 to 34\n",
            "Data columns (total 2 columns):\n",
            " #   Column   Non-Null Count  Dtype \n",
            "---  ------   --------------  ----- \n",
            " 0   version  35 non-null     object\n",
            " 1   data     35 non-null     object\n",
            "dtypes: object(2)\n",
            "memory usage: 688.0+ bytes\n"
          ],
          "name": "stdout"
        }
      ]
    },
    {
      "cell_type": "code",
      "metadata": {
        "colab": {
          "base_uri": "https://localhost:8080/",
          "height": 173
        },
        "id": "iAvhHVZNdsqW",
        "outputId": "3220b159-6b42-4f09-f039-155dba6b8e93"
      },
      "source": [
        "train_data.describe()"
      ],
      "execution_count": null,
      "outputs": [
        {
          "output_type": "execute_result",
          "data": {
            "text/html": [
              "<div>\n",
              "<style scoped>\n",
              "    .dataframe tbody tr th:only-of-type {\n",
              "        vertical-align: middle;\n",
              "    }\n",
              "\n",
              "    .dataframe tbody tr th {\n",
              "        vertical-align: top;\n",
              "    }\n",
              "\n",
              "    .dataframe thead th {\n",
              "        text-align: right;\n",
              "    }\n",
              "</style>\n",
              "<table border=\"1\" class=\"dataframe\">\n",
              "  <thead>\n",
              "    <tr style=\"text-align: right;\">\n",
              "      <th></th>\n",
              "      <th>version</th>\n",
              "      <th>data</th>\n",
              "    </tr>\n",
              "  </thead>\n",
              "  <tbody>\n",
              "    <tr>\n",
              "      <th>count</th>\n",
              "      <td>442</td>\n",
              "      <td>442</td>\n",
              "    </tr>\n",
              "    <tr>\n",
              "      <th>unique</th>\n",
              "      <td>1</td>\n",
              "      <td>442</td>\n",
              "    </tr>\n",
              "    <tr>\n",
              "      <th>top</th>\n",
              "      <td>v2.0</td>\n",
              "      <td>{'title': '51st_state', 'paragraphs': [{'qas':...</td>\n",
              "    </tr>\n",
              "    <tr>\n",
              "      <th>freq</th>\n",
              "      <td>442</td>\n",
              "      <td>1</td>\n",
              "    </tr>\n",
              "  </tbody>\n",
              "</table>\n",
              "</div>"
            ],
            "text/plain": [
              "       version                                               data\n",
              "count      442                                                442\n",
              "unique       1                                                442\n",
              "top       v2.0  {'title': '51st_state', 'paragraphs': [{'qas':...\n",
              "freq       442                                                  1"
            ]
          },
          "metadata": {
            "tags": []
          },
          "execution_count": 7
        }
      ]
    },
    {
      "cell_type": "code",
      "metadata": {
        "id": "MVMnytHNW99_"
      },
      "source": [
        "import collections\n",
        "import json\n",
        "\n",
        "import matplotlib.pyplot as plt\n",
        "import seaborn as sns\n",
        "import wordcloud\n",
        "import numpy as np\n",
        "\n",
        "\n",
        "import re\n",
        "import nltk\n",
        "\n",
        "\n",
        "from textblob import TextBlob\n",
        "\n",
        "import spacy\n",
        "\n",
        "from sklearn import feature_extraction, manifold\n",
        "\n",
        "import gensim.downloader as gensim_api\n",
        "\n",
        "import gensim"
      ],
      "execution_count": null,
      "outputs": []
    },
    {
      "cell_type": "code",
      "metadata": {
        "colab": {
          "base_uri": "https://localhost:8080/"
        },
        "id": "duj5kI1DcvIj",
        "outputId": "e12559e6-b154-4162-eb96-6659deb9474b"
      },
      "source": [
        "sample = train_data['data'][0]['paragraphs'][0]\n",
        "\n",
        "sample"
      ],
      "execution_count": null,
      "outputs": [
        {
          "output_type": "execute_result",
          "data": {
            "text/plain": [
              "{'context': 'Beyoncé Giselle Knowles-Carter (/biːˈjɒnseɪ/ bee-YON-say) (born September 4, 1981) is an American singer, songwriter, record producer and actress. Born and raised in Houston, Texas, she performed in various singing and dancing competitions as a child, and rose to fame in the late 1990s as lead singer of R&B girl-group Destiny\\'s Child. Managed by her father, Mathew Knowles, the group became one of the world\\'s best-selling girl groups of all time. Their hiatus saw the release of Beyoncé\\'s debut album, Dangerously in Love (2003), which established her as a solo artist worldwide, earned five Grammy Awards and featured the Billboard Hot 100 number-one singles \"Crazy in Love\" and \"Baby Boy\".',\n",
              " 'qas': [{'answers': [{'answer_start': 269, 'text': 'in the late 1990s'}],\n",
              "   'id': '56be85543aeaaa14008c9063',\n",
              "   'is_impossible': False,\n",
              "   'question': 'When did Beyonce start becoming popular?'},\n",
              "  {'answers': [{'answer_start': 207, 'text': 'singing and dancing'}],\n",
              "   'id': '56be85543aeaaa14008c9065',\n",
              "   'is_impossible': False,\n",
              "   'question': 'What areas did Beyonce compete in when she was growing up?'},\n",
              "  {'answers': [{'answer_start': 526, 'text': '2003'}],\n",
              "   'id': '56be85543aeaaa14008c9066',\n",
              "   'is_impossible': False,\n",
              "   'question': \"When did Beyonce leave Destiny's Child and become a solo singer?\"},\n",
              "  {'answers': [{'answer_start': 166, 'text': 'Houston, Texas'}],\n",
              "   'id': '56bf6b0f3aeaaa14008c9601',\n",
              "   'is_impossible': False,\n",
              "   'question': 'In what city and state did Beyonce  grow up? '},\n",
              "  {'answers': [{'answer_start': 276, 'text': 'late 1990s'}],\n",
              "   'id': '56bf6b0f3aeaaa14008c9602',\n",
              "   'is_impossible': False,\n",
              "   'question': 'In which decade did Beyonce become famous?'},\n",
              "  {'answers': [{'answer_start': 320, 'text': \"Destiny's Child\"}],\n",
              "   'id': '56bf6b0f3aeaaa14008c9603',\n",
              "   'is_impossible': False,\n",
              "   'question': 'In what R&B group was she the lead singer?'},\n",
              "  {'answers': [{'answer_start': 505, 'text': 'Dangerously in Love'}],\n",
              "   'id': '56bf6b0f3aeaaa14008c9604',\n",
              "   'is_impossible': False,\n",
              "   'question': 'What album made her a worldwide known artist?'},\n",
              "  {'answers': [{'answer_start': 360, 'text': 'Mathew Knowles'}],\n",
              "   'id': '56bf6b0f3aeaaa14008c9605',\n",
              "   'is_impossible': False,\n",
              "   'question': \"Who managed the Destiny's Child group?\"},\n",
              "  {'answers': [{'answer_start': 276, 'text': 'late 1990s'}],\n",
              "   'id': '56d43c5f2ccc5a1400d830a9',\n",
              "   'is_impossible': False,\n",
              "   'question': 'When did Beyoncé rise to fame?'},\n",
              "  {'answers': [{'answer_start': 290, 'text': 'lead singer'}],\n",
              "   'id': '56d43c5f2ccc5a1400d830aa',\n",
              "   'is_impossible': False,\n",
              "   'question': \"What role did Beyoncé have in Destiny's Child?\"},\n",
              "  {'answers': [{'answer_start': 505, 'text': 'Dangerously in Love'}],\n",
              "   'id': '56d43c5f2ccc5a1400d830ab',\n",
              "   'is_impossible': False,\n",
              "   'question': 'What was the first album Beyoncé released as a solo artist?'},\n",
              "  {'answers': [{'answer_start': 526, 'text': '2003'}],\n",
              "   'id': '56d43c5f2ccc5a1400d830ac',\n",
              "   'is_impossible': False,\n",
              "   'question': 'When did Beyoncé release Dangerously in Love?'},\n",
              "  {'answers': [{'answer_start': 590, 'text': 'five'}],\n",
              "   'id': '56d43c5f2ccc5a1400d830ad',\n",
              "   'is_impossible': False,\n",
              "   'question': 'How many Grammy awards did Beyoncé win for her first solo album?'},\n",
              "  {'answers': [{'answer_start': 290, 'text': 'lead singer'}],\n",
              "   'id': '56d43ce42ccc5a1400d830b4',\n",
              "   'is_impossible': False,\n",
              "   'question': \"What was Beyoncé's role in Destiny's Child?\"},\n",
              "  {'answers': [{'answer_start': 505, 'text': 'Dangerously in Love'}],\n",
              "   'id': '56d43ce42ccc5a1400d830b5',\n",
              "   'is_impossible': False,\n",
              "   'question': \"What was the name of Beyoncé's first solo album?\"}]}"
            ]
          },
          "metadata": {
            "tags": []
          },
          "execution_count": 9
        }
      ]
    },
    {
      "cell_type": "code",
      "metadata": {
        "colab": {
          "base_uri": "https://localhost:8080/"
        },
        "id": "9V-sZNy_kNrK",
        "outputId": "5091cfc1-43ad-4133-a2f8-4f0ce1057f3f"
      },
      "source": [
        "for i in sample:\n",
        "  print(i)"
      ],
      "execution_count": null,
      "outputs": [
        {
          "output_type": "stream",
          "text": [
            "qas\n",
            "context\n"
          ],
          "name": "stdout"
        }
      ]
    },
    {
      "cell_type": "code",
      "metadata": {
        "colab": {
          "base_uri": "https://localhost:8080/",
          "height": 103
        },
        "id": "Uk11RdKekbKQ",
        "outputId": "f3269e42-8cb9-41f1-a99f-d7b95110dbb2"
      },
      "source": [
        "sample_qas = sample['qas']\n",
        "sample_context = sample['context']\n",
        "sample_context"
      ],
      "execution_count": null,
      "outputs": [
        {
          "output_type": "execute_result",
          "data": {
            "application/vnd.google.colaboratory.intrinsic+json": {
              "type": "string"
            },
            "text/plain": [
              "'Beyoncé Giselle Knowles-Carter (/biːˈjɒnseɪ/ bee-YON-say) (born September 4, 1981) is an American singer, songwriter, record producer and actress. Born and raised in Houston, Texas, she performed in various singing and dancing competitions as a child, and rose to fame in the late 1990s as lead singer of R&B girl-group Destiny\\'s Child. Managed by her father, Mathew Knowles, the group became one of the world\\'s best-selling girl groups of all time. Their hiatus saw the release of Beyoncé\\'s debut album, Dangerously in Love (2003), which established her as a solo artist worldwide, earned five Grammy Awards and featured the Billboard Hot 100 number-one singles \"Crazy in Love\" and \"Baby Boy\".'"
            ]
          },
          "metadata": {
            "tags": []
          },
          "execution_count": 13
        }
      ]
    },
    {
      "cell_type": "code",
      "metadata": {
        "colab": {
          "base_uri": "https://localhost:8080/"
        },
        "id": "8eJZTF9OedzU",
        "outputId": "97f27d01-3bed-4581-8647-3f01f6f8921a"
      },
      "source": [
        "pip install langdetect"
      ],
      "execution_count": null,
      "outputs": [
        {
          "output_type": "stream",
          "text": [
            "Requirement already satisfied: langdetect in /usr/local/lib/python3.7/dist-packages (1.0.9)\n",
            "Requirement already satisfied: six in /usr/local/lib/python3.7/dist-packages (from langdetect) (1.15.0)\n"
          ],
          "name": "stdout"
        }
      ]
    },
    {
      "cell_type": "code",
      "metadata": {
        "id": "03_snubleyCK"
      },
      "source": [
        "import langdetect \n",
        "from langdetect import detect"
      ],
      "execution_count": null,
      "outputs": []
    },
    {
      "cell_type": "code",
      "metadata": {
        "colab": {
          "base_uri": "https://localhost:8080/"
        },
        "id": "5gP69juBe6ab",
        "outputId": "0adbd347-99ba-4906-a6da-1c77f4897093"
      },
      "source": [
        "print(detect(sample_context))\n",
        "\n"
      ],
      "execution_count": null,
      "outputs": [
        {
          "output_type": "stream",
          "text": [
            "en\n"
          ],
          "name": "stdout"
        }
      ]
    },
    {
      "cell_type": "code",
      "metadata": {
        "id": "GOiucUc_ijst"
      },
      "source": [
        "#txt = pd.DataFrame(train_data[\"data\"]).iloc[0]\n",
        "\n",
        "\n",
        "#txt = (train_data[\"data\"]).iloc[0]\n",
        "\n",
        "txt = sample_context\n"
      ],
      "execution_count": null,
      "outputs": []
    },
    {
      "cell_type": "code",
      "metadata": {
        "colab": {
          "base_uri": "https://localhost:8080/"
        },
        "id": "A1J_x1e_l2OG",
        "outputId": "01c13fe0-07fe-40fb-f67f-b7ce82715096"
      },
      "source": [
        "print(\"--- original ---\")\n",
        "print(txt)\n",
        "print(\"--- cleaning ---\")\n",
        "txt = re.sub(r'[^\\w\\s]', '', str(txt).lower().strip())\n",
        "print(txt)\n",
        "print(\"--- tokenization ---\")\n",
        "txt = txt.split()\n",
        "print(txt)"
      ],
      "execution_count": null,
      "outputs": [
        {
          "output_type": "stream",
          "text": [
            "--- original ---\n",
            "Beyoncé Giselle Knowles-Carter (/biːˈjɒnseɪ/ bee-YON-say) (born September 4, 1981) is an American singer, songwriter, record producer and actress. Born and raised in Houston, Texas, she performed in various singing and dancing competitions as a child, and rose to fame in the late 1990s as lead singer of R&B girl-group Destiny's Child. Managed by her father, Mathew Knowles, the group became one of the world's best-selling girl groups of all time. Their hiatus saw the release of Beyoncé's debut album, Dangerously in Love (2003), which established her as a solo artist worldwide, earned five Grammy Awards and featured the Billboard Hot 100 number-one singles \"Crazy in Love\" and \"Baby Boy\".\n",
            "--- cleaning ---\n",
            "beyoncé giselle knowlescarter biːˈjɒnseɪ beeyonsay born september 4 1981 is an american singer songwriter record producer and actress born and raised in houston texas she performed in various singing and dancing competitions as a child and rose to fame in the late 1990s as lead singer of rb girlgroup destinys child managed by her father mathew knowles the group became one of the worlds bestselling girl groups of all time their hiatus saw the release of beyoncés debut album dangerously in love 2003 which established her as a solo artist worldwide earned five grammy awards and featured the billboard hot 100 numberone singles crazy in love and baby boy\n",
            "--- tokenization ---\n",
            "['beyoncé', 'giselle', 'knowlescarter', 'biːˈjɒnseɪ', 'beeyonsay', 'born', 'september', '4', '1981', 'is', 'an', 'american', 'singer', 'songwriter', 'record', 'producer', 'and', 'actress', 'born', 'and', 'raised', 'in', 'houston', 'texas', 'she', 'performed', 'in', 'various', 'singing', 'and', 'dancing', 'competitions', 'as', 'a', 'child', 'and', 'rose', 'to', 'fame', 'in', 'the', 'late', '1990s', 'as', 'lead', 'singer', 'of', 'rb', 'girlgroup', 'destinys', 'child', 'managed', 'by', 'her', 'father', 'mathew', 'knowles', 'the', 'group', 'became', 'one', 'of', 'the', 'worlds', 'bestselling', 'girl', 'groups', 'of', 'all', 'time', 'their', 'hiatus', 'saw', 'the', 'release', 'of', 'beyoncés', 'debut', 'album', 'dangerously', 'in', 'love', '2003', 'which', 'established', 'her', 'as', 'a', 'solo', 'artist', 'worldwide', 'earned', 'five', 'grammy', 'awards', 'and', 'featured', 'the', 'billboard', 'hot', '100', 'numberone', 'singles', 'crazy', 'in', 'love', 'and', 'baby', 'boy']\n"
          ],
          "name": "stdout"
        }
      ]
    },
    {
      "cell_type": "code",
      "metadata": {
        "colab": {
          "base_uri": "https://localhost:8080/"
        },
        "id": "jh1DWEZCmEdT",
        "outputId": "39e0a22e-950c-480f-bdb6-892f12626283"
      },
      "source": [
        "nltk.download('stopwords')"
      ],
      "execution_count": null,
      "outputs": [
        {
          "output_type": "stream",
          "text": [
            "[nltk_data] Downloading package stopwords to /root/nltk_data...\n",
            "[nltk_data]   Package stopwords is already up-to-date!\n"
          ],
          "name": "stdout"
        },
        {
          "output_type": "execute_result",
          "data": {
            "text/plain": [
              "True"
            ]
          },
          "metadata": {
            "tags": []
          },
          "execution_count": 20
        }
      ]
    },
    {
      "cell_type": "code",
      "metadata": {
        "colab": {
          "base_uri": "https://localhost:8080/"
        },
        "id": "eEbuh2d6mCi2",
        "outputId": "4e2eb705-e29b-4264-aa19-d2a56d7db545"
      },
      "source": [
        "lst_stopwords = nltk.corpus.stopwords.words(\"english\")\n",
        "lst_stopwords"
      ],
      "execution_count": null,
      "outputs": [
        {
          "output_type": "execute_result",
          "data": {
            "text/plain": [
              "['i',\n",
              " 'me',\n",
              " 'my',\n",
              " 'myself',\n",
              " 'we',\n",
              " 'our',\n",
              " 'ours',\n",
              " 'ourselves',\n",
              " 'you',\n",
              " \"you're\",\n",
              " \"you've\",\n",
              " \"you'll\",\n",
              " \"you'd\",\n",
              " 'your',\n",
              " 'yours',\n",
              " 'yourself',\n",
              " 'yourselves',\n",
              " 'he',\n",
              " 'him',\n",
              " 'his',\n",
              " 'himself',\n",
              " 'she',\n",
              " \"she's\",\n",
              " 'her',\n",
              " 'hers',\n",
              " 'herself',\n",
              " 'it',\n",
              " \"it's\",\n",
              " 'its',\n",
              " 'itself',\n",
              " 'they',\n",
              " 'them',\n",
              " 'their',\n",
              " 'theirs',\n",
              " 'themselves',\n",
              " 'what',\n",
              " 'which',\n",
              " 'who',\n",
              " 'whom',\n",
              " 'this',\n",
              " 'that',\n",
              " \"that'll\",\n",
              " 'these',\n",
              " 'those',\n",
              " 'am',\n",
              " 'is',\n",
              " 'are',\n",
              " 'was',\n",
              " 'were',\n",
              " 'be',\n",
              " 'been',\n",
              " 'being',\n",
              " 'have',\n",
              " 'has',\n",
              " 'had',\n",
              " 'having',\n",
              " 'do',\n",
              " 'does',\n",
              " 'did',\n",
              " 'doing',\n",
              " 'a',\n",
              " 'an',\n",
              " 'the',\n",
              " 'and',\n",
              " 'but',\n",
              " 'if',\n",
              " 'or',\n",
              " 'because',\n",
              " 'as',\n",
              " 'until',\n",
              " 'while',\n",
              " 'of',\n",
              " 'at',\n",
              " 'by',\n",
              " 'for',\n",
              " 'with',\n",
              " 'about',\n",
              " 'against',\n",
              " 'between',\n",
              " 'into',\n",
              " 'through',\n",
              " 'during',\n",
              " 'before',\n",
              " 'after',\n",
              " 'above',\n",
              " 'below',\n",
              " 'to',\n",
              " 'from',\n",
              " 'up',\n",
              " 'down',\n",
              " 'in',\n",
              " 'out',\n",
              " 'on',\n",
              " 'off',\n",
              " 'over',\n",
              " 'under',\n",
              " 'again',\n",
              " 'further',\n",
              " 'then',\n",
              " 'once',\n",
              " 'here',\n",
              " 'there',\n",
              " 'when',\n",
              " 'where',\n",
              " 'why',\n",
              " 'how',\n",
              " 'all',\n",
              " 'any',\n",
              " 'both',\n",
              " 'each',\n",
              " 'few',\n",
              " 'more',\n",
              " 'most',\n",
              " 'other',\n",
              " 'some',\n",
              " 'such',\n",
              " 'no',\n",
              " 'nor',\n",
              " 'not',\n",
              " 'only',\n",
              " 'own',\n",
              " 'same',\n",
              " 'so',\n",
              " 'than',\n",
              " 'too',\n",
              " 'very',\n",
              " 's',\n",
              " 't',\n",
              " 'can',\n",
              " 'will',\n",
              " 'just',\n",
              " 'don',\n",
              " \"don't\",\n",
              " 'should',\n",
              " \"should've\",\n",
              " 'now',\n",
              " 'd',\n",
              " 'll',\n",
              " 'm',\n",
              " 'o',\n",
              " 're',\n",
              " 've',\n",
              " 'y',\n",
              " 'ain',\n",
              " 'aren',\n",
              " \"aren't\",\n",
              " 'couldn',\n",
              " \"couldn't\",\n",
              " 'didn',\n",
              " \"didn't\",\n",
              " 'doesn',\n",
              " \"doesn't\",\n",
              " 'hadn',\n",
              " \"hadn't\",\n",
              " 'hasn',\n",
              " \"hasn't\",\n",
              " 'haven',\n",
              " \"haven't\",\n",
              " 'isn',\n",
              " \"isn't\",\n",
              " 'ma',\n",
              " 'mightn',\n",
              " \"mightn't\",\n",
              " 'mustn',\n",
              " \"mustn't\",\n",
              " 'needn',\n",
              " \"needn't\",\n",
              " 'shan',\n",
              " \"shan't\",\n",
              " 'shouldn',\n",
              " \"shouldn't\",\n",
              " 'wasn',\n",
              " \"wasn't\",\n",
              " 'weren',\n",
              " \"weren't\",\n",
              " 'won',\n",
              " \"won't\",\n",
              " 'wouldn',\n",
              " \"wouldn't\"]"
            ]
          },
          "metadata": {
            "tags": []
          },
          "execution_count": 21
        }
      ]
    },
    {
      "cell_type": "code",
      "metadata": {
        "colab": {
          "base_uri": "https://localhost:8080/"
        },
        "id": "dxXgel93mOTU",
        "outputId": "2517861f-34d8-40bb-9bc1-55924ee88276"
      },
      "source": [
        "print(\"--- remove stopwords ---\")\n",
        "txt = [word for word in txt if word not in lst_stopwords]\n",
        "print(txt)"
      ],
      "execution_count": null,
      "outputs": [
        {
          "output_type": "stream",
          "text": [
            "--- remove stopwords ---\n",
            "['beyoncé', 'giselle', 'knowlescarter', 'biːˈjɒnseɪ', 'beeyonsay', 'born', 'september', '4', '1981', 'american', 'singer', 'songwriter', 'record', 'producer', 'actress', 'born', 'raised', 'houston', 'texas', 'performed', 'various', 'singing', 'dancing', 'competitions', 'child', 'rose', 'fame', 'late', '1990s', 'lead', 'singer', 'rb', 'girlgroup', 'destinys', 'child', 'managed', 'father', 'mathew', 'knowles', 'group', 'became', 'one', 'worlds', 'bestselling', 'girl', 'groups', 'time', 'hiatus', 'saw', 'release', 'beyoncés', 'debut', 'album', 'dangerously', 'love', '2003', 'established', 'solo', 'artist', 'worldwide', 'earned', 'five', 'grammy', 'awards', 'featured', 'billboard', 'hot', '100', 'numberone', 'singles', 'crazy', 'love', 'baby', 'boy']\n"
          ],
          "name": "stdout"
        }
      ]
    },
    {
      "cell_type": "code",
      "metadata": {
        "id": "J9IJ16ePmUSO"
      },
      "source": [
        "#str1 = \"\"\n",
        "#txt = str1.join(txt)\n",
        "#txt"
      ],
      "execution_count": null,
      "outputs": []
    },
    {
      "cell_type": "code",
      "metadata": {
        "id": "HuTk_PSYeSES"
      },
      "source": [
        "\n",
        "from nltk.stem import WordNetLemmatizer \n",
        "\n",
        "lemmatizer = WordNetLemmatizer()"
      ],
      "execution_count": null,
      "outputs": []
    },
    {
      "cell_type": "code",
      "metadata": {
        "id": "nnB7hJGKec68"
      },
      "source": [
        "#print(lemmatizer.lemmatize(txt))"
      ],
      "execution_count": null,
      "outputs": []
    },
    {
      "cell_type": "code",
      "metadata": {
        "id": "-0uDNaWnlpsF"
      },
      "source": [
        "from nltk.stem import PorterStemmer\n",
        "ps = PorterStemmer()\n"
      ],
      "execution_count": null,
      "outputs": []
    },
    {
      "cell_type": "code",
      "metadata": {
        "colab": {
          "base_uri": "https://localhost:8080/"
        },
        "id": "U6rjhgeZlvU2",
        "outputId": "74ab8258-c96f-4e79-85c2-fba8f4ec629f"
      },
      "source": [
        "for word in sample_context.split():\n",
        "  print(ps.stem(word))"
      ],
      "execution_count": null,
      "outputs": [
        {
          "output_type": "stream",
          "text": [
            "beyoncé\n",
            "gisel\n",
            "knowles-cart\n",
            "(/biːˈjɒnseɪ/\n",
            "bee-yon-say)\n",
            "(born\n",
            "septemb\n",
            "4,\n",
            "1981)\n",
            "is\n",
            "an\n",
            "american\n",
            "singer,\n",
            "songwriter,\n",
            "record\n",
            "produc\n",
            "and\n",
            "actress.\n",
            "born\n",
            "and\n",
            "rais\n",
            "in\n",
            "houston,\n",
            "texas,\n",
            "she\n",
            "perform\n",
            "in\n",
            "variou\n",
            "sing\n",
            "and\n",
            "danc\n",
            "competit\n",
            "as\n",
            "a\n",
            "child,\n",
            "and\n",
            "rose\n",
            "to\n",
            "fame\n",
            "in\n",
            "the\n",
            "late\n",
            "1990\n",
            "as\n",
            "lead\n",
            "singer\n",
            "of\n",
            "r&b\n",
            "girl-group\n",
            "destiny'\n",
            "child.\n",
            "manag\n",
            "by\n",
            "her\n",
            "father,\n",
            "mathew\n",
            "knowles,\n",
            "the\n",
            "group\n",
            "becam\n",
            "one\n",
            "of\n",
            "the\n",
            "world'\n",
            "best-sel\n",
            "girl\n",
            "group\n",
            "of\n",
            "all\n",
            "time.\n",
            "their\n",
            "hiatu\n",
            "saw\n",
            "the\n",
            "releas\n",
            "of\n",
            "beyoncé'\n",
            "debut\n",
            "album,\n",
            "danger\n",
            "in\n",
            "love\n",
            "(2003),\n",
            "which\n",
            "establish\n",
            "her\n",
            "as\n",
            "a\n",
            "solo\n",
            "artist\n",
            "worldwide,\n",
            "earn\n",
            "five\n",
            "grammi\n",
            "award\n",
            "and\n",
            "featur\n",
            "the\n",
            "billboard\n",
            "hot\n",
            "100\n",
            "number-on\n",
            "singl\n",
            "\"crazi\n",
            "in\n",
            "love\"\n",
            "and\n",
            "\"babi\n",
            "boy\".\n"
          ],
          "name": "stdout"
        }
      ]
    },
    {
      "cell_type": "code",
      "metadata": {
        "colab": {
          "base_uri": "https://localhost:8080/",
          "height": 204
        },
        "id": "4D-qv7QOmQVg",
        "outputId": "71333479-76e7-409a-984c-9554a0bc7ca7"
      },
      "source": [
        "train_data_copy = train_data.copy()\n",
        "\n",
        "train_data_copy['word_count'] = train_data_copy[\"data\"].apply(lambda x: len(str(x).split(\" \")))\n",
        "train_data_copy['char_count'] = train_data_copy[\"data\"].apply(lambda x: sum(len(word) for word in str(x).split(\" \")))\n",
        "train_data_copy['sentence_count'] = train_data_copy[\"data\"].apply(lambda x: len(str(x).split(\".\")))\n",
        "train_data_copy['avg_word_length'] = train_data_copy['char_count'] / train_data_copy['word_count']\n",
        "train_data_copy['avg_sentence_lenght'] = train_data_copy['word_count'] / train_data_copy['sentence_count']\n",
        "train_data_copy.head()"
      ],
      "execution_count": null,
      "outputs": [
        {
          "output_type": "execute_result",
          "data": {
            "text/html": [
              "<div>\n",
              "<style scoped>\n",
              "    .dataframe tbody tr th:only-of-type {\n",
              "        vertical-align: middle;\n",
              "    }\n",
              "\n",
              "    .dataframe tbody tr th {\n",
              "        vertical-align: top;\n",
              "    }\n",
              "\n",
              "    .dataframe thead th {\n",
              "        text-align: right;\n",
              "    }\n",
              "</style>\n",
              "<table border=\"1\" class=\"dataframe\">\n",
              "  <thead>\n",
              "    <tr style=\"text-align: right;\">\n",
              "      <th></th>\n",
              "      <th>version</th>\n",
              "      <th>data</th>\n",
              "      <th>word_count</th>\n",
              "      <th>char_count</th>\n",
              "      <th>sentence_count</th>\n",
              "      <th>avg_word_length</th>\n",
              "      <th>avg_sentence_lenght</th>\n",
              "    </tr>\n",
              "  </thead>\n",
              "  <tbody>\n",
              "    <tr>\n",
              "      <th>0</th>\n",
              "      <td>v2.0</td>\n",
              "      <td>{'title': 'Beyoncé', 'paragraphs': [{'qas': [{...</td>\n",
              "      <td>25163</td>\n",
              "      <td>177951</td>\n",
              "      <td>524</td>\n",
              "      <td>7.071931</td>\n",
              "      <td>48.020992</td>\n",
              "    </tr>\n",
              "    <tr>\n",
              "      <th>1</th>\n",
              "      <td>v2.0</td>\n",
              "      <td>{'title': 'Frédéric_Chopin', 'paragraphs': [{'...</td>\n",
              "      <td>24264</td>\n",
              "      <td>171911</td>\n",
              "      <td>583</td>\n",
              "      <td>7.085023</td>\n",
              "      <td>41.619211</td>\n",
              "    </tr>\n",
              "    <tr>\n",
              "      <th>2</th>\n",
              "      <td>v2.0</td>\n",
              "      <td>{'title': 'Sino-Tibetan_relations_during_the_M...</td>\n",
              "      <td>15916</td>\n",
              "      <td>102075</td>\n",
              "      <td>351</td>\n",
              "      <td>6.413358</td>\n",
              "      <td>45.344729</td>\n",
              "    </tr>\n",
              "    <tr>\n",
              "      <th>3</th>\n",
              "      <td>v2.0</td>\n",
              "      <td>{'title': 'IPod', 'paragraphs': [{'qas': [{'qu...</td>\n",
              "      <td>12663</td>\n",
              "      <td>86994</td>\n",
              "      <td>312</td>\n",
              "      <td>6.869936</td>\n",
              "      <td>40.586538</td>\n",
              "    </tr>\n",
              "    <tr>\n",
              "      <th>4</th>\n",
              "      <td>v2.0</td>\n",
              "      <td>{'title': 'The_Legend_of_Zelda:_Twilight_Princ...</td>\n",
              "      <td>12257</td>\n",
              "      <td>89601</td>\n",
              "      <td>198</td>\n",
              "      <td>7.310190</td>\n",
              "      <td>61.904040</td>\n",
              "    </tr>\n",
              "  </tbody>\n",
              "</table>\n",
              "</div>"
            ],
            "text/plain": [
              "  version  ... avg_sentence_lenght\n",
              "0    v2.0  ...           48.020992\n",
              "1    v2.0  ...           41.619211\n",
              "2    v2.0  ...           45.344729\n",
              "3    v2.0  ...           40.586538\n",
              "4    v2.0  ...           61.904040\n",
              "\n",
              "[5 rows x 7 columns]"
            ]
          },
          "metadata": {
            "tags": []
          },
          "execution_count": 26
        }
      ]
    },
    {
      "cell_type": "code",
      "metadata": {
        "id": "CEJ23rkdlc24"
      },
      "source": [
        ""
      ],
      "execution_count": null,
      "outputs": []
    }
  ]
}